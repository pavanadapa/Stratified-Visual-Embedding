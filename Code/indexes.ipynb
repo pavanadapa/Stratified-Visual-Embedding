{
  "cells": [
    {
      "cell_type": "markdown",
      "metadata": {
        "id": "D_6uxZAp77zS"
      },
      "source": [
        "#Depedencies and Setup"
      ]
    },
    {
      "cell_type": "code",
      "execution_count": 53,
      "metadata": {
        "id": "vjMQto3fT3zZ"
      },
      "outputs": [],
      "source": [
        "import numpy as np\n",
        "import pandas as pd\n",
        "import tensorflow as tf\n",
        "from tensorflow import keras\n",
        "import matplotlib.pyplot as plt\n",
        "import pathlib\n",
        "import tensorflow as tf\n",
        "from tensorflow import keras\n",
        "from tensorflow.keras import layers\n",
        "from tensorflow.keras.models import Sequential\n",
        "import faiss\n",
        "import random\n",
        "import time\n",
        "import statistics"
      ]
    },
    {
      "cell_type": "code",
      "execution_count": 5,
      "metadata": {
        "id": "8oiN8J8lzGfn"
      },
      "outputs": [],
      "source": [
        "import zipfile\n",
        "with zipfile.ZipFile(\"wher your zip file is\", 'r') as zip_ref:\n",
        "    zip_ref.extractall(\"archive\")"
      ]
    },
    {
      "cell_type": "code",
      "execution_count": 6,
      "metadata": {
        "id": "U0h4fAn_T8ww"
      },
      "outputs": [],
      "source": [
        "flowers = pathlib.Path(\"archive/flowers\")"
      ]
    },
    {
      "cell_type": "code",
      "execution_count": 7,
      "metadata": {
        "colab": {
          "base_uri": "https://localhost:8080/"
        },
        "id": "l8gb8qthmjDC",
        "outputId": "7604a6f5-a988-4e28-bef2-d5100fd8cc05"
      },
      "outputs": [
        {
          "name": "stdout",
          "output_type": "stream",
          "text": [
            "Found 4317 files belonging to 5 classes.\n",
            "Using 3454 files for training.\n",
            "Found 4317 files belonging to 5 classes.\n",
            "Using 863 files for validation.\n"
          ]
        }
      ],
      "source": [
        "data = tf.keras.preprocessing.image_dataset_from_directory(\n",
        "  flowers,\n",
        "  validation_split=0.2,\n",
        "  subset=\"training\",\n",
        "  seed=123,\n",
        "  image_size=(256, 256),\n",
        "  batch_size=32)\n",
        "\n",
        "\n",
        "valdata = tf.keras.preprocessing.image_dataset_from_directory(\n",
        "  flowers,\n",
        "  validation_split=0.2,\n",
        "  subset=\"validation\",\n",
        "  seed=123,\n",
        "  image_size=(256, 256),\n",
        "  batch_size=32)\n",
        "\n",
        "\n"
      ]
    },
    {
      "cell_type": "code",
      "execution_count": 8,
      "metadata": {
        "id": "7TeVSIIqQQVs"
      },
      "outputs": [],
      "source": [
        "class_names = data.class_names"
      ]
    },
    {
      "cell_type": "code",
      "execution_count": 9,
      "metadata": {
        "id": "8ePe_173z3DM"
      },
      "outputs": [],
      "source": [
        "AUTOTUNE = tf.data.experimental.AUTOTUNE\n",
        "data = data.cache().shuffle(1000).prefetch(buffer_size=AUTOTUNE)\n",
        "valdata = valdata.cache().prefetch(buffer_size=AUTOTUNE)"
      ]
    },
    {
      "cell_type": "markdown",
      "metadata": {
        "id": "IwehtPv48KF5"
      },
      "source": [
        "#Train Model"
      ]
    },
    {
      "cell_type": "code",
      "execution_count": null,
      "metadata": {
        "id": "RefaypZL0bZW"
      },
      "outputs": [],
      "source": [
        "epochs = 50\n",
        "path_checkpoint = \"model_checkpoint.h5\"\n",
        "es_callback = keras.callbacks.EarlyStopping(monitor=\"val_loss\", min_delta=0, patience=5)\n",
        "\n",
        "modelckpt_callback = keras.callbacks.ModelCheckpoint(\n",
        "    monitor=\"val_loss\",\n",
        "    filepath=path_checkpoint,\n",
        "    verbose=1,\n",
        "    save_weights_only=True,\n",
        "    save_best_only=True,\n",
        ")"
      ]
    },
    {
      "cell_type": "code",
      "execution_count": null,
      "metadata": {
        "id": "x7kowNXx1LLW"
      },
      "outputs": [],
      "source": [
        "data_augmentation = keras.Sequential(\n",
        "  [\n",
        "    layers.experimental.preprocessing.RandomFlip(\"horizontal\", input_shape=(256, 256,3)),\n",
        "    layers.experimental.preprocessing.RandomRotation(0.1),\n",
        "    layers.experimental.preprocessing.RandomZoom(0.1),\n",
        "  ]\n",
        ")\n",
        "\n",
        "base_model = keras.applications.Xception(\n",
        "    weights=\"imagenet\",  # Load weights pre-trained on ImageNet.\n",
        "    input_shape=(256, 256, 3),\n",
        "    include_top=False,\n",
        ")  \n",
        "\n",
        "base_model.trainable = False\n",
        "\n",
        "inputs = keras.Input(shape=(256, 256, 3))\n",
        "x = data_augmentation(inputs)  # Apply random data augmentation\n",
        "\n",
        "scale_layer = keras.layers.Rescaling(scale=1 / 127.5, offset=-1)\n",
        "x = scale_layer(x)\n",
        "\n",
        "x = base_model(x, training=False)\n",
        "x = keras.layers.GlobalAveragePooling2D()(x)\n",
        "x = keras.layers.Dropout(0.2)(x)  # Regularize with dropout\n",
        "outputs = keras.layers.Dense(26)(x)\n",
        "model = keras.Model(inputs, outputs)\n",
        "\n",
        "\n",
        "model.compile(optimizer='adam',\n",
        "              loss=tf.keras.losses.SparseCategoricalCrossentropy(from_logits=True),\n",
        "              metrics=['accuracy'])\n"
      ]
    },
    {
      "cell_type": "code",
      "execution_count": null,
      "metadata": {
        "colab": {
          "base_uri": "https://localhost:8080/"
        },
        "id": "rmlUWWLgUdL_",
        "outputId": "c41d48ba-224c-453c-e261-6dcf0b76c04c"
      },
      "outputs": [
        {
          "name": "stdout",
          "output_type": "stream",
          "text": [
            "Epoch 1/50\n",
            "108/108 [==============================] - ETA: 0s - loss: 0.8913 - accuracy: 0.7102\n",
            "Epoch 1: val_loss improved from inf to 0.50331, saving model to model_checkpoint.h5\n",
            "108/108 [==============================] - 44s 290ms/step - loss: 0.8913 - accuracy: 0.7102 - val_loss: 0.5033 - val_accuracy: 0.8320\n",
            "Epoch 2/50\n",
            "108/108 [==============================] - ETA: 0s - loss: 0.4623 - accuracy: 0.8509\n",
            "Epoch 2: val_loss improved from 0.50331 to 0.41908, saving model to model_checkpoint.h5\n",
            "108/108 [==============================] - 26s 242ms/step - loss: 0.4623 - accuracy: 0.8509 - val_loss: 0.4191 - val_accuracy: 0.8505\n",
            "Epoch 3/50\n",
            "108/108 [==============================] - ETA: 0s - loss: 0.4003 - accuracy: 0.8662\n",
            "Epoch 3: val_loss improved from 0.41908 to 0.38630, saving model to model_checkpoint.h5\n",
            "108/108 [==============================] - 27s 252ms/step - loss: 0.4003 - accuracy: 0.8662 - val_loss: 0.3863 - val_accuracy: 0.8598\n",
            "Epoch 4/50\n",
            "108/108 [==============================] - ETA: 0s - loss: 0.3598 - accuracy: 0.8764\n",
            "Epoch 4: val_loss improved from 0.38630 to 0.37958, saving model to model_checkpoint.h5\n",
            "108/108 [==============================] - 26s 243ms/step - loss: 0.3598 - accuracy: 0.8764 - val_loss: 0.3796 - val_accuracy: 0.8633\n",
            "Epoch 5/50\n",
            "108/108 [==============================] - ETA: 0s - loss: 0.3420 - accuracy: 0.8830\n",
            "Epoch 5: val_loss improved from 0.37958 to 0.35553, saving model to model_checkpoint.h5\n",
            "108/108 [==============================] - 26s 242ms/step - loss: 0.3420 - accuracy: 0.8830 - val_loss: 0.3555 - val_accuracy: 0.8760\n",
            "Epoch 6/50\n",
            "108/108 [==============================] - ETA: 0s - loss: 0.3208 - accuracy: 0.8926\n",
            "Epoch 6: val_loss improved from 0.35553 to 0.35120, saving model to model_checkpoint.h5\n",
            "108/108 [==============================] - 27s 246ms/step - loss: 0.3208 - accuracy: 0.8926 - val_loss: 0.3512 - val_accuracy: 0.8725\n",
            "Epoch 7/50\n",
            "108/108 [==============================] - ETA: 0s - loss: 0.2989 - accuracy: 0.9027\n",
            "Epoch 7: val_loss improved from 0.35120 to 0.34736, saving model to model_checkpoint.h5\n",
            "108/108 [==============================] - 26s 245ms/step - loss: 0.2989 - accuracy: 0.9027 - val_loss: 0.3474 - val_accuracy: 0.8818\n",
            "Epoch 8/50\n",
            "108/108 [==============================] - ETA: 0s - loss: 0.2947 - accuracy: 0.8969\n",
            "Epoch 8: val_loss did not improve from 0.34736\n",
            "108/108 [==============================] - 26s 243ms/step - loss: 0.2947 - accuracy: 0.8969 - val_loss: 0.3525 - val_accuracy: 0.8667\n",
            "Epoch 9/50\n",
            "108/108 [==============================] - ETA: 0s - loss: 0.2862 - accuracy: 0.9068\n",
            "Epoch 9: val_loss improved from 0.34736 to 0.33646, saving model to model_checkpoint.h5\n",
            "108/108 [==============================] - 27s 248ms/step - loss: 0.2862 - accuracy: 0.9068 - val_loss: 0.3365 - val_accuracy: 0.8841\n",
            "Epoch 10/50\n",
            "108/108 [==============================] - ETA: 0s - loss: 0.2756 - accuracy: 0.9056\n",
            "Epoch 10: val_loss did not improve from 0.33646\n",
            "108/108 [==============================] - 26s 241ms/step - loss: 0.2756 - accuracy: 0.9056 - val_loss: 0.3387 - val_accuracy: 0.8806\n",
            "Epoch 11/50\n",
            "108/108 [==============================] - ETA: 0s - loss: 0.2637 - accuracy: 0.9166\n",
            "Epoch 11: val_loss did not improve from 0.33646\n",
            "108/108 [==============================] - 26s 242ms/step - loss: 0.2637 - accuracy: 0.9166 - val_loss: 0.3380 - val_accuracy: 0.8783\n",
            "Epoch 12/50\n",
            "108/108 [==============================] - ETA: 0s - loss: 0.2611 - accuracy: 0.9085\n",
            "Epoch 12: val_loss improved from 0.33646 to 0.33091, saving model to model_checkpoint.h5\n",
            "108/108 [==============================] - 27s 253ms/step - loss: 0.2611 - accuracy: 0.9085 - val_loss: 0.3309 - val_accuracy: 0.8841\n",
            "Epoch 13/50\n",
            "108/108 [==============================] - ETA: 0s - loss: 0.2551 - accuracy: 0.9143\n",
            "Epoch 13: val_loss did not improve from 0.33091\n",
            "108/108 [==============================] - 26s 238ms/step - loss: 0.2551 - accuracy: 0.9143 - val_loss: 0.3386 - val_accuracy: 0.8876\n",
            "Epoch 14/50\n",
            "108/108 [==============================] - ETA: 0s - loss: 0.2490 - accuracy: 0.9198\n",
            "Epoch 14: val_loss improved from 0.33091 to 0.32833, saving model to model_checkpoint.h5\n",
            "108/108 [==============================] - 27s 253ms/step - loss: 0.2490 - accuracy: 0.9198 - val_loss: 0.3283 - val_accuracy: 0.8934\n",
            "Epoch 15/50\n",
            "108/108 [==============================] - ETA: 0s - loss: 0.2461 - accuracy: 0.9160\n",
            "Epoch 15: val_loss improved from 0.32833 to 0.32449, saving model to model_checkpoint.h5\n",
            "108/108 [==============================] - 26s 240ms/step - loss: 0.2461 - accuracy: 0.9160 - val_loss: 0.3245 - val_accuracy: 0.8899\n",
            "Epoch 16/50\n",
            "108/108 [==============================] - ETA: 0s - loss: 0.2443 - accuracy: 0.9186\n",
            "Epoch 16: val_loss improved from 0.32449 to 0.32203, saving model to model_checkpoint.h5\n",
            "108/108 [==============================] - 27s 252ms/step - loss: 0.2443 - accuracy: 0.9186 - val_loss: 0.3220 - val_accuracy: 0.8934\n",
            "Epoch 17/50\n",
            "108/108 [==============================] - ETA: 0s - loss: 0.2289 - accuracy: 0.9224\n",
            "Epoch 17: val_loss did not improve from 0.32203\n",
            "108/108 [==============================] - 26s 240ms/step - loss: 0.2289 - accuracy: 0.9224 - val_loss: 0.3289 - val_accuracy: 0.8934\n",
            "Epoch 18/50\n",
            "108/108 [==============================] - ETA: 0s - loss: 0.2333 - accuracy: 0.9230\n",
            "Epoch 18: val_loss did not improve from 0.32203\n",
            "108/108 [==============================] - 26s 239ms/step - loss: 0.2333 - accuracy: 0.9230 - val_loss: 0.3311 - val_accuracy: 0.8934\n",
            "Epoch 19/50\n",
            "108/108 [==============================] - ETA: 0s - loss: 0.2392 - accuracy: 0.9210\n",
            "Epoch 19: val_loss did not improve from 0.32203\n",
            "108/108 [==============================] - 26s 245ms/step - loss: 0.2392 - accuracy: 0.9210 - val_loss: 0.3260 - val_accuracy: 0.8969\n",
            "Epoch 20/50\n",
            "108/108 [==============================] - ETA: 0s - loss: 0.2161 - accuracy: 0.9250\n",
            "Epoch 20: val_loss did not improve from 0.32203\n",
            "108/108 [==============================] - 26s 244ms/step - loss: 0.2161 - accuracy: 0.9250 - val_loss: 0.3228 - val_accuracy: 0.8957\n",
            "Epoch 21/50\n",
            "108/108 [==============================] - ETA: 0s - loss: 0.2204 - accuracy: 0.9268\n",
            "Epoch 21: val_loss improved from 0.32203 to 0.32069, saving model to model_checkpoint.h5\n",
            "108/108 [==============================] - 27s 248ms/step - loss: 0.2204 - accuracy: 0.9268 - val_loss: 0.3207 - val_accuracy: 0.8980\n",
            "Epoch 22/50\n",
            "108/108 [==============================] - ETA: 0s - loss: 0.2175 - accuracy: 0.9265\n",
            "Epoch 22: val_loss did not improve from 0.32069\n",
            "108/108 [==============================] - 26s 239ms/step - loss: 0.2175 - accuracy: 0.9265 - val_loss: 0.3236 - val_accuracy: 0.8969\n",
            "Epoch 23/50\n",
            "108/108 [==============================] - ETA: 0s - loss: 0.2104 - accuracy: 0.9265\n",
            "Epoch 23: val_loss did not improve from 0.32069\n",
            "108/108 [==============================] - 27s 247ms/step - loss: 0.2104 - accuracy: 0.9265 - val_loss: 0.3289 - val_accuracy: 0.8888\n",
            "Epoch 24/50\n",
            "108/108 [==============================] - ETA: 0s - loss: 0.2106 - accuracy: 0.9262\n",
            "Epoch 24: val_loss did not improve from 0.32069\n",
            "108/108 [==============================] - 26s 242ms/step - loss: 0.2106 - accuracy: 0.9262 - val_loss: 0.3541 - val_accuracy: 0.8830\n",
            "Epoch 25/50\n",
            "108/108 [==============================] - ETA: 0s - loss: 0.2065 - accuracy: 0.9288\n",
            "Epoch 25: val_loss improved from 0.32069 to 0.31944, saving model to model_checkpoint.h5\n",
            "108/108 [==============================] - 26s 245ms/step - loss: 0.2065 - accuracy: 0.9288 - val_loss: 0.3194 - val_accuracy: 0.8934\n",
            "Epoch 26/50\n",
            "108/108 [==============================] - ETA: 0s - loss: 0.1986 - accuracy: 0.9360\n",
            "Epoch 26: val_loss did not improve from 0.31944\n",
            "108/108 [==============================] - 26s 241ms/step - loss: 0.1986 - accuracy: 0.9360 - val_loss: 0.3250 - val_accuracy: 0.8969\n",
            "Epoch 27/50\n",
            "108/108 [==============================] - ETA: 0s - loss: 0.2135 - accuracy: 0.9221\n",
            "Epoch 27: val_loss did not improve from 0.31944\n",
            "108/108 [==============================] - 26s 243ms/step - loss: 0.2135 - accuracy: 0.9221 - val_loss: 0.3246 - val_accuracy: 0.8969\n",
            "Epoch 28/50\n",
            "108/108 [==============================] - ETA: 0s - loss: 0.1967 - accuracy: 0.9325\n",
            "Epoch 28: val_loss did not improve from 0.31944\n",
            "108/108 [==============================] - 26s 242ms/step - loss: 0.1967 - accuracy: 0.9325 - val_loss: 0.3251 - val_accuracy: 0.9015\n",
            "Epoch 29/50\n",
            "108/108 [==============================] - ETA: 0s - loss: 0.1931 - accuracy: 0.9354\n",
            "Epoch 29: val_loss did not improve from 0.31944\n",
            "108/108 [==============================] - 27s 248ms/step - loss: 0.1931 - accuracy: 0.9354 - val_loss: 0.3329 - val_accuracy: 0.8946\n",
            "Epoch 30/50\n",
            "108/108 [==============================] - ETA: 0s - loss: 0.1974 - accuracy: 0.9311\n",
            "Epoch 30: val_loss did not improve from 0.31944\n",
            "108/108 [==============================] - 26s 237ms/step - loss: 0.1974 - accuracy: 0.9311 - val_loss: 0.3205 - val_accuracy: 0.8980\n"
          ]
        }
      ],
      "source": [
        "history = model.fit(\n",
        "  data,\n",
        "  epochs=epochs,\n",
        "  validation_data= valdata,\n",
        "  callbacks=[es_callback, modelckpt_callback]\n",
        ")"
      ]
    },
    {
      "cell_type": "code",
      "execution_count": null,
      "metadata": {
        "colab": {
          "base_uri": "https://localhost:8080/"
        },
        "id": "Xs-fjGlmE8-D",
        "outputId": "390ed0ab-b9e8-4590-9470-4c452a68cbf5"
      },
      "outputs": [
        {
          "name": "stdout",
          "output_type": "stream",
          "text": [
            "Epoch 1/50\n",
            "108/108 [==============================] - ETA: 0s - loss: 0.1760 - accuracy: 0.9404\n",
            "Epoch 1: val_loss improved from 0.31944 to 0.29756, saving model to model_checkpoint.h5\n",
            "108/108 [==============================] - 105s 905ms/step - loss: 0.1760 - accuracy: 0.9404 - val_loss: 0.2976 - val_accuracy: 0.9096\n",
            "Epoch 2/50\n",
            "108/108 [==============================] - ETA: 0s - loss: 0.1391 - accuracy: 0.9551\n",
            "Epoch 2: val_loss improved from 0.29756 to 0.28524, saving model to model_checkpoint.h5\n",
            "108/108 [==============================] - 94s 869ms/step - loss: 0.1391 - accuracy: 0.9551 - val_loss: 0.2852 - val_accuracy: 0.9143\n",
            "Epoch 3/50\n",
            "108/108 [==============================] - ETA: 0s - loss: 0.0984 - accuracy: 0.9653\n",
            "Epoch 3: val_loss did not improve from 0.28524\n",
            "108/108 [==============================] - 94s 867ms/step - loss: 0.0984 - accuracy: 0.9653 - val_loss: 0.2932 - val_accuracy: 0.9177\n",
            "Epoch 4/50\n",
            "108/108 [==============================] - ETA: 0s - loss: 0.0803 - accuracy: 0.9751\n",
            "Epoch 4: val_loss did not improve from 0.28524\n",
            "108/108 [==============================] - 94s 868ms/step - loss: 0.0803 - accuracy: 0.9751 - val_loss: 0.2884 - val_accuracy: 0.9189\n",
            "Epoch 5/50\n",
            "108/108 [==============================] - ETA: 0s - loss: 0.0673 - accuracy: 0.9768\n",
            "Epoch 5: val_loss improved from 0.28524 to 0.28434, saving model to model_checkpoint.h5\n",
            "108/108 [==============================] - 94s 874ms/step - loss: 0.0673 - accuracy: 0.9768 - val_loss: 0.2843 - val_accuracy: 0.9154\n",
            "Epoch 6/50\n",
            "108/108 [==============================] - ETA: 0s - loss: 0.0591 - accuracy: 0.9792\n",
            "Epoch 6: val_loss did not improve from 0.28434\n",
            "108/108 [==============================] - 94s 871ms/step - loss: 0.0591 - accuracy: 0.9792 - val_loss: 0.2907 - val_accuracy: 0.9166\n",
            "Epoch 7/50\n",
            "108/108 [==============================] - ETA: 0s - loss: 0.0611 - accuracy: 0.9783\n",
            "Epoch 7: val_loss improved from 0.28434 to 0.28150, saving model to model_checkpoint.h5\n",
            "108/108 [==============================] - 94s 872ms/step - loss: 0.0611 - accuracy: 0.9783 - val_loss: 0.2815 - val_accuracy: 0.9177\n",
            "Epoch 8/50\n",
            "108/108 [==============================] - ETA: 0s - loss: 0.0363 - accuracy: 0.9910\n",
            "Epoch 8: val_loss did not improve from 0.28150\n",
            "108/108 [==============================] - 94s 867ms/step - loss: 0.0363 - accuracy: 0.9910 - val_loss: 0.3049 - val_accuracy: 0.9166\n",
            "Epoch 9/50\n",
            "108/108 [==============================] - ETA: 0s - loss: 0.0255 - accuracy: 0.9933\n",
            "Epoch 9: val_loss did not improve from 0.28150\n",
            "108/108 [==============================] - 94s 867ms/step - loss: 0.0255 - accuracy: 0.9933 - val_loss: 0.2950 - val_accuracy: 0.9247\n",
            "Epoch 10/50\n",
            "108/108 [==============================] - ETA: 0s - loss: 0.0293 - accuracy: 0.9919\n",
            "Epoch 10: val_loss did not improve from 0.28150\n",
            "108/108 [==============================] - 94s 867ms/step - loss: 0.0293 - accuracy: 0.9919 - val_loss: 0.2925 - val_accuracy: 0.9247\n",
            "Epoch 11/50\n",
            "108/108 [==============================] - ETA: 0s - loss: 0.0292 - accuracy: 0.9902\n",
            "Epoch 11: val_loss did not improve from 0.28150\n",
            "108/108 [==============================] - 93s 866ms/step - loss: 0.0292 - accuracy: 0.9902 - val_loss: 0.3089 - val_accuracy: 0.9270\n",
            "Epoch 12/50\n",
            "108/108 [==============================] - ETA: 0s - loss: 0.0232 - accuracy: 0.9919\n",
            "Epoch 12: val_loss did not improve from 0.28150\n",
            "108/108 [==============================] - 94s 871ms/step - loss: 0.0232 - accuracy: 0.9919 - val_loss: 0.3290 - val_accuracy: 0.9166\n"
          ]
        }
      ],
      "source": [
        "base_model.trainable = True\n",
        "model.compile(optimizer=keras.optimizers.Adam(1e-5),\n",
        "              loss=tf.keras.losses.SparseCategoricalCrossentropy(from_logits=True),\n",
        "              metrics=['accuracy'])\n",
        "\n",
        "history = model.fit(\n",
        "  data,\n",
        "  epochs=epochs,\n",
        "  validation_data= valdata,\n",
        "  callbacks=[es_callback, modelckpt_callback]\n",
        ")"
      ]
    },
    {
      "cell_type": "code",
      "execution_count": null,
      "metadata": {
        "id": "BVD8oa-NKW0b"
      },
      "outputs": [],
      "source": [
        "model.save('flowers.h5')"
      ]
    },
    {
      "cell_type": "code",
      "execution_count": null,
      "metadata": {
        "colab": {
          "base_uri": "https://localhost:8080/"
        },
        "id": "7BsbUPwQK--y",
        "outputId": "924db6a6-2f26-4646-9c2e-541820f015d4"
      },
      "outputs": [
        {
          "name": "stderr",
          "output_type": "stream",
          "text": [
            "WARNING:absl:Found untraced functions such as _jit_compiled_convolution_op, _jit_compiled_convolution_op, _jit_compiled_convolution_op, _jit_compiled_convolution_op, _jit_compiled_convolution_op while saving (showing 5 of 40). These functions will not be directly callable after loading.\n"
          ]
        }
      ],
      "source": [
        "model.save('flowers')"
      ]
    },
    {
      "cell_type": "code",
      "execution_count": null,
      "metadata": {
        "colab": {
          "base_uri": "https://localhost:8080/"
        },
        "id": "LV2fR-6KLw2L",
        "outputId": "ebe6e24d-a583-4199-98c1-b28b823a0a28"
      },
      "outputs": [
        {
          "name": "stdout",
          "output_type": "stream",
          "text": [
            "  adding: content/flowers/ (stored 0%)\n",
            "  adding: content/flowers/variables/ (stored 0%)\n",
            "  adding: content/flowers/variables/variables.data-00000-of-00001 (deflated 8%)\n",
            "  adding: content/flowers/variables/variables.index (deflated 79%)\n",
            "  adding: content/flowers/assets/ (stored 0%)\n",
            "  adding: content/flowers/saved_model.pb (deflated 91%)\n",
            "  adding: content/flowers/keras_metadata.pb (deflated 96%)\n"
          ]
        }
      ],
      "source": [
        "!zip -r flowers.zip /content/flowers"
      ]
    }
  ],
  "metadata": {
    "accelerator": "GPU",
    "colab": {
      "collapsed_sections": [
        "D_6uxZAp77zS",
        "IwehtPv48KF5",
        "NjlCrqKw8YBE",
        "fl_onov79ArR",
        "hO7qV-jd95UY",
        "h8U7x1jY-0O1"
      ],
      "provenance": []
    },
    "gpuClass": "standard",
    "kernelspec": {
      "display_name": "Python 3",
      "language": "python",
      "name": "python3"
    },
    "language_info": {
      "name": "python",
      "version": "3.10.5 (tags/v3.10.5:f377153, Jun  6 2022, 16:14:13) [MSC v.1929 64 bit (AMD64)]"
    },
    "vscode": {
      "interpreter": {
        "hash": "9d462704a4263eed20a2e7759ccc71a2a9c464bfce930e210769bfd3971fa943"
      }
    }
  },
  "nbformat": 4,
  "nbformat_minor": 0
}
